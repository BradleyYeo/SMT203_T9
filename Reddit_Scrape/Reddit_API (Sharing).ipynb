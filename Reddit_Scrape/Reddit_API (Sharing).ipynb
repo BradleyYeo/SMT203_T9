{
 "cells": [
  {
   "cell_type": "code",
   "execution_count": null,
   "metadata": {},
   "outputs": [],
   "source": [
    "import pandas as pd\n",
    "import datetime as dt"
   ]
  },
  {
   "cell_type": "code",
   "execution_count": null,
   "metadata": {},
   "outputs": [],
   "source": [
    "import logging\n",
    "logging.basicConfig(level=logging.DEBUG,\n",
    "                    format='%(asctime)s %(name)-12s %(levelname)-8s %(message)s',\n",
    "                    datefmt='%m-%d %H:%M:%S')\n",
    "logger = logging.getLogger(__name__)"
   ]
  },
  {
   "cell_type": "code",
   "execution_count": null,
   "metadata": {},
   "outputs": [],
   "source": [
    "#install PRAW package (Reddit API wrapper) \n",
    "#!pip install praw"
   ]
  },
  {
   "cell_type": "code",
   "execution_count": null,
   "metadata": {},
   "outputs": [],
   "source": [
    "#install PSAW package (API wrapper containing workaround for previous API)\n",
    "#!pip install psaw"
   ]
  },
  {
   "cell_type": "code",
   "execution_count": null,
   "metadata": {},
   "outputs": [],
   "source": [
    "import praw \n",
    "from psaw import PushshiftAPI"
   ]
  },
  {
   "cell_type": "code",
   "execution_count": null,
   "metadata": {},
   "outputs": [],
   "source": [
    "#key in based on api application on reddit\n",
    "reddit = praw.Reddit(client_id='', \n",
    "                     client_secret='', \n",
    "                     user_agent=''\n",
    "                    )\n",
    "\n",
    "api = PushshiftAPI(reddit)"
   ]
  },
  {
   "cell_type": "code",
   "execution_count": null,
   "metadata": {},
   "outputs": [],
   "source": [
    "celeb_list = ['Ben Platt', 'Caitlyn Jenner', 'Ellen Degeneres','Elliot Page','James Charles','Janelle Monáe', 'Jeffree Star', \n",
    "         'Joey Graceffa', 'Lady Gaga', 'Lil Nas X', 'Lili Reinhart', 'Miley Cyrus', 'Ronen Rubinstein', 'Sam Smith', \n",
    "         'Tom Daley', 'Ariana Grande', 'Billie Eilish', 'Selena Gomez', 'Barack Obama', 'Jaden Smith', 'Kanye West', 'Lizzo',\n",
    "         'Michael B. Jordan', 'Michelle Obama', 'Nicki Minaj', 'Oprah', 'Rihanna', 'Serena Williams', 'Simone Biles', \n",
    "         'Stephan James', 'Terry Crews', 'Tyler Perry', 'Willow Smith', 'Will Smith', 'Dwayne Johnson', 'Daniel Dae Kim',\n",
    "         'Sandra Oh', 'Alex Shibutani', 'Maia Shibutani', 'Awkwafina', 'Ken Jeong', 'Lana Condor', 'Olivia Rodrigo',\n",
    "         'Bill Gates', 'Kim Kardashian West', 'Paris Hilton', 'Taylor Swift', 'Tom Hanks', 'Justin Bieber', 'Joe Biden']"
   ]
  },
  {
   "cell_type": "code",
   "execution_count": null,
   "metadata": {},
   "outputs": [],
   "source": [
    "all_date = {'jan20':[(2020,1,15),(2020,2,6)],\n",
    "        'feb20':[(2020,2,7),(2020,3,29)],\n",
    "        'mar20':[(2020,3,30),(2020,4,22)],\n",
    "        'apr20':[(2020,4,23),(2020,5,4)],\n",
    "        'may20':[(2020,5,5),(2020,6,27)],\n",
    "        'jun20':[(2020,6,28),(2020,7,1)],\n",
    "        'jul20':[(2020,7,2),(2020,8,21)],\n",
    "        'aug20':[(2020,8,22),(2020,9,8)],\n",
    "        'sep20':[(2020,9,9),(2020,10,11)],\n",
    "        'oct20':[(2020,10,12),(2020,11,10)],\n",
    "        'nov20':[(2020,11,11),(2020,12,16)],\n",
    "        'dec20':[(2020,12,17),(2020,12,31)]}"
   ]
  },
  {
   "cell_type": "code",
   "execution_count": null,
   "metadata": {},
   "outputs": [],
   "source": [
    "def getUnix(year,month,day):\n",
    "    return int(dt.datetime(year, month, day).timestamp())"
   ]
  },
  {
   "cell_type": "code",
   "execution_count": null,
   "metadata": {},
   "outputs": [],
   "source": [
    "all_date_unix = {}\n",
    "\n",
    "for key in all_date:\n",
    "    all_date_unix[key] = [getUnix(all_date[key][0][0], all_date[key][0][1], all_date[key][0][2]),\n",
    "                     getUnix(all_date[key][1][0], all_date[key][1][1], all_date[key][1][2])]"
   ]
  },
  {
   "cell_type": "code",
   "execution_count": null,
   "metadata": {},
   "outputs": [],
   "source": [
    "all_date_unix"
   ]
  },
  {
   "cell_type": "code",
   "execution_count": null,
   "metadata": {},
   "outputs": [],
   "source": [
    "def getSID(search_term, start, end):\n",
    "    max_reponse = 50\n",
    "    submission_id = []\n",
    "    search = api.search_submissions(q=search_term, after=start, before=end)\n",
    "    for s in search:\n",
    "        submission_id.append(s.id)\n",
    "        if len(submission_id) >= max_reponse:\n",
    "            break\n",
    "    return submission_id"
   ]
  },
  {
   "cell_type": "code",
   "execution_count": null,
   "metadata": {},
   "outputs": [],
   "source": [
    "#function gets all the comment from the particular post/submission\n",
    "def getComments(sid):\n",
    "    submission = reddit.submission(id=sid)\n",
    "    comments_list = []\n",
    "    submission.comments.replace_more(limit=None) #return secondary level replies\n",
    "    for comment in submission.comments.list():\n",
    "        timestamp = dt.datetime.utcfromtimestamp(comment.created_utc).strftime('%Y-%m-%d %H:%M:%S')\n",
    "        comments_list.append([timestamp,sid,comment.body])\n",
    "    return comments_list"
   ]
  },
  {
   "cell_type": "code",
   "execution_count": null,
   "metadata": {},
   "outputs": [],
   "source": [
    "def monthly_comment(id_list):\n",
    "    all_comments = []\n",
    "    \n",
    "    for id in id_list:\n",
    "        if len(getComments(id)) == 0:\n",
    "            pass\n",
    "        else:\n",
    "            all_comments+=(getComments(id))\n",
    "            \n",
    "    return all_comments\n",
    "    "
   ]
  },
  {
   "cell_type": "code",
   "execution_count": null,
   "metadata": {},
   "outputs": [],
   "source": [
    "mypath = \".\"\n",
    "\n",
    "for celeb in celeb_list:\n",
    "    entire_comment = [] \n",
    "    \n",
    "    for month in all_date_unix:\n",
    "        all_id = getSID(celeb, all_date_unix[month][0], all_date_unix[month][1])\n",
    "        entire_comment += monthly_comment(all_id)\n",
    "        print()\n",
    "        \n",
    "    output_csv = f\"{mypath}/reddit_{celeb}.csv\"\n",
    "    #print(entire_comment)\n",
    "    pd.DataFrame(entire_comment, columns = ['Timestamp','SubmissionID', 'Comment']).to_csv(output_csv)\n",
    "    \n",
    "    break"
   ]
  },
  {
   "cell_type": "code",
   "execution_count": null,
   "metadata": {},
   "outputs": [],
   "source": []
  }
 ],
 "metadata": {
  "kernelspec": {
   "display_name": "Python 3",
   "language": "python",
   "name": "python3"
  },
  "language_info": {
   "codemirror_mode": {
    "name": "ipython",
    "version": 3
   },
   "file_extension": ".py",
   "mimetype": "text/x-python",
   "name": "python",
   "nbconvert_exporter": "python",
   "pygments_lexer": "ipython3",
   "version": "3.8.5"
  }
 },
 "nbformat": 4,
 "nbformat_minor": 4
}
