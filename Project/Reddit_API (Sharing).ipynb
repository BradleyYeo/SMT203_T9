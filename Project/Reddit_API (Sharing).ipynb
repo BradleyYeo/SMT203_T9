{
 "cells": [
  {
   "cell_type": "code",
   "execution_count": null,
   "metadata": {},
   "outputs": [],
   "source": [
    "import pandas as pd\n",
    "import datetime as dt"
   ]
  },
  {
   "cell_type": "code",
   "execution_count": null,
   "metadata": {},
   "outputs": [],
   "source": [
    "import logging\n",
    "logging.basicConfig(level=logging.DEBUG,\n",
    "                    format='%(asctime)s %(name)-12s %(levelname)-8s %(message)s',\n",
    "                    datefmt='%m-%d %H:%M:%S')\n",
    "logger = logging.getLogger(__name__)"
   ]
  },
  {
   "cell_type": "code",
   "execution_count": null,
   "metadata": {},
   "outputs": [],
   "source": [
    "#install PRAW package (Reddit API wrapper) \n",
    "#!pip install praw"
   ]
  },
  {
   "cell_type": "code",
   "execution_count": null,
   "metadata": {},
   "outputs": [],
   "source": [
    "#install PSAW package (API wrapper containing workaround for previous API)\n",
    "#!pip install psaw"
   ]
  },
  {
   "cell_type": "code",
   "execution_count": null,
   "metadata": {},
   "outputs": [],
   "source": [
    "import praw \n",
    "from psaw import PushshiftAPI"
   ]
  },
  {
   "cell_type": "code",
   "execution_count": null,
   "metadata": {},
   "outputs": [],
   "source": [
    "#key in based on api application on reddit\n",
    "reddit = praw.Reddit(client_id='', \n",
    "                     client_secret='', \n",
    "                     user_agent=''\n",
    "                    )\n",
    "\n",
    "api = PushshiftAPI(reddit)"
   ]
  },
  {
   "cell_type": "code",
   "execution_count": null,
   "metadata": {},
   "outputs": [],
   "source": [
    "#convert datetime to unix timestamp\n",
    "start_epoch=int(dt.datetime(2021, 1, 15).timestamp()) #start time\n",
    "end_epoch=int(dt.datetime(2021, 2, 14).timestamp()) #end time\n",
    "\n",
    "search_term = 'obama'\n",
    "\n",
    "#finding posts on reddit mentioning the search query\n",
    "search = api.search_submissions(q=search_term, #search term\n",
    "                             #subreddit='', #left empty to search all subreddits\n",
    "                             after=start_epoch,\n",
    "                             before=end_epoch,\n",
    "                            ) \n",
    "\n",
    "#manually returning the max number of response\n",
    "max_response = 100\n",
    "submission_id = []\n",
    "\n",
    "#obtaining just the id as str\n",
    "for s in search:\n",
    "    submission_id.append(s.id)\n",
    "    if len(submission_id) >= max_response:\n",
    "        break"
   ]
  },
  {
   "cell_type": "code",
   "execution_count": null,
   "metadata": {},
   "outputs": [],
   "source": [
    "#function gets all the comment from the particular post/submission\n",
    "def getComments(sid):\n",
    "    submission = reddit.submission(id=sid)\n",
    "    comments_list = []\n",
    "    submission.comments.replace_more(limit=None) #return secondary level replies\n",
    "    for comment in submission.comments.list():\n",
    "        comments_list.append(comment.body)\n",
    "    return(comments_list)\n"
   ]
  },
  {
   "cell_type": "code",
   "execution_count": null,
   "metadata": {},
   "outputs": [],
   "source": [
    "mypath = \".\"\n",
    "month_year = 'jan21' #change this for file name\n",
    "filename = f\"{mypath}/reddit_{search_term}_{month_year}.txt\"\n",
    "\n",
    "with open(filename,\"w\",encoding=\"utf-8\") as output:\n",
    "    for id in submission_id:\n",
    "        output.write('[' + id + \"]\\n\")\n",
    "        for comment in getComments(id):\n",
    "            output.write(comment+\"\\n\")"
   ]
  },
  {
   "cell_type": "code",
   "execution_count": null,
   "metadata": {},
   "outputs": [],
   "source": []
  }
 ],
 "metadata": {
  "kernelspec": {
   "display_name": "Python 3",
   "language": "python",
   "name": "python3"
  },
  "language_info": {
   "codemirror_mode": {
    "name": "ipython",
    "version": 3
   },
   "file_extension": ".py",
   "mimetype": "text/x-python",
   "name": "python",
   "nbconvert_exporter": "python",
   "pygments_lexer": "ipython3",
   "version": "3.8.5"
  }
 },
 "nbformat": 4,
 "nbformat_minor": 4
}
